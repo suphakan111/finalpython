{
  "nbformat": 4,
  "nbformat_minor": 0,
  "metadata": {
    "colab": {
      "provenance": [],
      "authorship_tag": "ABX9TyMM4EoSoE3GWyHJULNRfZR0",
      "include_colab_link": true
    },
    "kernelspec": {
      "name": "python3",
      "display_name": "Python 3"
    },
    "language_info": {
      "name": "python"
    }
  },
  "cells": [
    {
      "cell_type": "markdown",
      "metadata": {
        "id": "view-in-github",
        "colab_type": "text"
      },
      "source": [
        "<a href=\"https://colab.research.google.com/github/suphakan111/finalpython/blob/main/finalpython(lab).ipynb\" target=\"_parent\"><img src=\"https://colab.research.google.com/assets/colab-badge.svg\" alt=\"Open In Colab\"/></a>"
      ]
    },
    {
      "cell_type": "code",
      "execution_count": 1,
      "metadata": {
        "colab": {
          "base_uri": "https://localhost:8080/"
        },
        "id": "q4v90X--lAP5",
        "outputId": "1ca30588-c13c-451b-d3da-99f57d74b960"
      },
      "outputs": [
        {
          "output_type": "stream",
          "name": "stdout",
          "text": [
            "enter=5\n",
            "True\n"
          ]
        }
      ],
      "source": [
        "# ip = int(input(\"enter = \"))\n",
        "\n",
        "def nb(number):\n",
        "    if number < 1 :\n",
        "        return False\n",
        "    for i in range(2, int(number ** 0.5) + 1):\n",
        "        if number % i == 0:\n",
        "            return False\n",
        "    return True\n",
        "\n",
        "print(nb(int(input('enter='))))"
      ]
    },
    {
      "cell_type": "code",
      "source": [
        "arrival = [900, 940, 950, 1100, 1500, 1800]\n",
        "a = arrival\n",
        "departure = [910, 1200, 1120, 1130, 1900, 2000]\n",
        "d = departure\n",
        "departure.sort()\n",
        "print(a)\n",
        "p=0\n",
        "for i in a:\n",
        "    if i < d[-1]:\n",
        "        p += 1\n",
        "v=0\n",
        "for j in d:\n",
        "    if j < d[3]:\n",
        "        v+=1\n",
        "print(p-v)"
      ],
      "metadata": {
        "colab": {
          "base_uri": "https://localhost:8080/"
        },
        "id": "HBNnAbCzlOe0",
        "outputId": "2b0d69ba-98fc-479e-cd52-3c9db85cb1b7"
      },
      "execution_count": 2,
      "outputs": [
        {
          "output_type": "stream",
          "name": "stdout",
          "text": [
            "[900, 940, 950, 1100, 1500, 1800]\n",
            "3\n"
          ]
        }
      ]
    }
  ]
}